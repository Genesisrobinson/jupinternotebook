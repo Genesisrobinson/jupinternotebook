{
    "cells": [
        {
            "cell_type": "markdown",
            "metadata": {
                "collapsed": true
            },
            "source": "# Author Genesis Robinson"
        },
        {
            "cell_type": "markdown",
            "metadata": {},
            "source": "## This is Genesis Data Science Project"
        },
        {
            "cell_type": "markdown",
            "metadata": {},
            "source": "### In this project I'm planning to do some seriours Data Science Project mainly using Location Data and all planning to apply all the learnings\nfrom the presious modules"
        },
        {
            "cell_type": "code",
            "execution_count": null,
            "metadata": {},
            "outputs": [],
            "source": ""
        }
    ],
    "metadata": {
        "kernelspec": {
            "display_name": "Python 3.7",
            "language": "python",
            "name": "python3"
        },
        "language_info": {
            "codemirror_mode": {
                "name": "ipython",
                "version": 3
            },
            "file_extension": ".py",
            "mimetype": "text/x-python",
            "name": "python",
            "nbconvert_exporter": "python",
            "pygments_lexer": "ipython3",
            "version": "3.7.9"
        }
    },
    "nbformat": 4,
    "nbformat_minor": 1
}