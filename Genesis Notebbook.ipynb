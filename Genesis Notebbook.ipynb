{
    "cells": [
        {
            "cell_type": "markdown",
            "metadata": {},
            "source": "Pandata Code for testing"
        },
        {
            "cell_type": "code",
            "execution_count": 5,
            "metadata": {},
            "outputs": [
                {
                    "data": {
                        "text/html": "<div>\n<style scoped>\n    .dataframe tbody tr th:only-of-type {\n        vertical-align: middle;\n    }\n\n    .dataframe tbody tr th {\n        vertical-align: top;\n    }\n\n    .dataframe thead th {\n        text-align: right;\n    }\n</style>\n<table border=\"1\" class=\"dataframe\">\n  <thead>\n    <tr style=\"text-align: right;\">\n      <th></th>\n      <th>Local Grade</th>\n      <th>(Multiple Items)</th>\n      <th>Unnamed: 2</th>\n      <th>Unnamed: 3</th>\n    </tr>\n  </thead>\n  <tbody>\n    <tr>\n      <th>0</th>\n      <td>Client Name</td>\n      <td>(Multiple Items)</td>\n      <td>NaN</td>\n      <td>NaN</td>\n    </tr>\n    <tr>\n      <th>1</th>\n      <td>Leader's Name</td>\n      <td>Genesis</td>\n      <td>NaN</td>\n      <td>NaN</td>\n    </tr>\n    <tr>\n      <th>2</th>\n      <td>NaN</td>\n      <td>NaN</td>\n      <td>NaN</td>\n      <td>NaN</td>\n    </tr>\n    <tr>\n      <th>3</th>\n      <td>Row Labels</td>\n      <td>Sum of Fail</td>\n      <td>Sum of not appeard</td>\n      <td>Sum of Pass</td>\n    </tr>\n    <tr>\n      <th>4</th>\n      <td>. Rajanikant (rajanik)</td>\n      <td>0</td>\n      <td>1</td>\n      <td>0</td>\n    </tr>\n  </tbody>\n</table>\n</div>",
                        "text/plain": "              Local Grade  (Multiple Items)          Unnamed: 2   Unnamed: 3\n0             Client Name  (Multiple Items)                 NaN          NaN\n1           Leader's Name           Genesis                 NaN          NaN\n2                     NaN               NaN                 NaN          NaN\n3              Row Labels       Sum of Fail  Sum of not appeard  Sum of Pass\n4  . Rajanikant (rajanik)                 0                   1            0"
                    },
                    "execution_count": 5,
                    "metadata": {},
                    "output_type": "execute_result"
                }
            ],
            "source": "# The code was removed by Watson Studio for sharing."
        },
        {
            "cell_type": "code",
            "execution_count": 2,
            "metadata": {},
            "outputs": [
                {
                    "ename": "NameError",
                    "evalue": "name 'df' is not defined",
                    "output_type": "error",
                    "traceback": [
                        "\u001b[0;31m---------------------------------------------------------------------------\u001b[0m",
                        "\u001b[0;31mNameError\u001b[0m                                 Traceback (most recent call last)",
                        "\u001b[0;32m<ipython-input-2-5cbf87521eaa>\u001b[0m in \u001b[0;36m<module>\u001b[0;34m\u001b[0m\n\u001b[0;32m----> 1\u001b[0;31m \u001b[0mdf\u001b[0m\u001b[0;34m(\u001b[0m\u001b[0;34m)\u001b[0m\u001b[0;34m\u001b[0m\u001b[0;34m\u001b[0m\u001b[0m\n\u001b[0m",
                        "\u001b[0;31mNameError\u001b[0m: name 'df' is not defined"
                    ]
                }
            ],
            "source": "df()"
        },
        {
            "cell_type": "code",
            "execution_count": 6,
            "metadata": {},
            "outputs": [
                {
                    "name": "stdout",
                    "output_type": "stream",
                    "text": "                               Local Grade  (Multiple Items)  \\\n0                              Client Name  (Multiple Items)   \n1                            Leader's Name           Genesis   \n2                                      NaN               NaN   \n3                               Row Labels       Sum of Fail   \n4                   . Rajanikant (rajanik)                 0   \n5                    Adams Jo Ann (jadams)                 0   \n6    Akuthota LakshmiPravallika (lakuthot)                 0   \n7             Alvarez Alexander (aalvarez)                 0   \n8                      ar Manjula (manjar)                 0   \n9          Arisetty Nikhil Raja (narisett)                 0   \n10          ASAMPELLI VENKATESH (vasampel)                 4   \n11            Badawadagi Shruti (sbadawad)                 0   \n12         Bejjarapu Prathyusha (pbejjara)                 0   \n13            Chandrappa Sowmya (sowmycha)                 0   \n14        Chandrasekar Gopinath (gopchand)                 0   \n15             Deshmukh Durgesh (dudeshmu)                 0   \n16     DORAISWAMY VARUN KAUSHIK (vdoraisw)                 0   \n17           Drakshayani Paluri (pdraksha)                 0   \n18            Eswaraiah Madakala (emadaka)                 0   \n19              Gangadaran Indu (igangada)                 1   \n20            Gautam Amit Kumar (amigauta)                 0   \n21                   Holmes Macy (mholmes)                 1   \n22          Jeevana Teretupally (tejeevan)                 0   \n23         Jena Akash Priyaranjan (akjena)                 0   \n24                  Kadam Nayan (naykadam)                 1   \n25                     KL Lavanya (lavakl)                 1   \n26                   KS Manjunath (manjks)                 0   \n27   Kukmmithi Ramakesava Reddy (kumreddy)                 0   \n28                  kumar Rohit (rohikuma)                 0   \n29                  Kumar Vinod (vkumar81)                 0   \n..                                     ...               ...   \n42              NELLURU DAMODAR (dnelluru)                 0   \n43             Padala Sai Durga (saipadal)                 0   \n44                    Pai Roopika (roopai)                 0   \n45            PALAKURTHI AKHILA (akpalaku)                 0   \n46            Panchal Ajaykumar (apanchal)                 0   \n47                  Patel Mohit (mohipate)                 0   \n48             Rahman Hmmasudur (masrahma)                 1   \n49  Reddy Guddam Nagalingeswara (nreddygu)                 0   \n50              Reddy NagaLinga (nagalred)                 0   \n51               S N Naveen Kumar (navesn)                 0   \n52               Saneja Priyanka (psaneja)                 0   \n53                       Shah Jay (jshah5)                 3   \n54               Sharma Jyotish (jyotisha)                 0   \n55           Shivashankar Anita (anshivas)                 0   \n56                  Singh Nisha (nsingh22)                 0   \n57               Singhal Ankita (ankigoel)                 0   \n58                  somu vasantha (vasomu)                 1   \n59              Sravani Thogaru (tsravani)                 1   \n60                    Sree Jyothi (jysree)                 0   \n61           sukanya pamudurthi (psukanya)                 0   \n62                 Tarun Tooprani (ttarun)                 0   \n63              Thevar Mariammal (mthevar)                 1   \n64          Tipparam Venu Kumar (vtippara)                 0   \n65              Tripathi Chhaya (ctripath)                 1   \n66                  Tyagi Arnav (arntyagi)                 0   \n67                    V.G. Naviya (navivg)                 0   \n68            Vankadari Lakshmi (lvankada)                 0   \n69             Venkatesan Durga (duvenkat)                 1   \n70         Yetukuri Giriprasadu (gyetukur)                 1   \n71                             Grand Total                30   \n\n            Unnamed: 2   Unnamed: 3  \n0                  NaN          NaN  \n1                  NaN          NaN  \n2                  NaN          NaN  \n3   Sum of not appeard  Sum of Pass  \n4                    1            0  \n5                    1            0  \n6                    1            0  \n7                    1            0  \n8                    4            0  \n9                    1            0  \n10                   0            1  \n11                   0            0  \n12                   1            0  \n13                   0            1  \n14                   1            0  \n15                   1            0  \n16                   5            0  \n17                   0            0  \n18                   1            0  \n19                   4            0  \n20                   1            0  \n21                   0            0  \n22                   0            0  \n23                   3            0  \n24                   2            0  \n25                   0            2  \n26                   6            0  \n27                   3            0  \n28                   3            0  \n29                   5            0  \n..                 ...          ...  \n42                   0            0  \n43                   0            2  \n44                   1            0  \n45                   0            0  \n46                   1            0  \n47                   1            0  \n48                   3            1  \n49                   1            0  \n50                   2            0  \n51                   2            1  \n52                   4            0  \n53                   0            2  \n54                   1            0  \n55                   0            0  \n56                   1            0  \n57                   3            1  \n58                   0            2  \n59                   3            0  \n60                   3            0  \n61                   1            1  \n62                   1            0  \n63                   1            1  \n64                   1            0  \n65                   0            2  \n66                   0            0  \n67                   1            2  \n68                   0            0  \n69                   0            1  \n70                   2            2  \n71                  96           28  \n\n[72 rows x 4 columns]\n"
                }
            ],
            "source": "print(df)"
        },
        {
            "cell_type": "code",
            "execution_count": null,
            "metadata": {},
            "outputs": [],
            "source": ""
        }
    ],
    "metadata": {
        "kernelspec": {
            "display_name": "Python 3.6",
            "language": "python",
            "name": "python3"
        },
        "language_info": {
            "codemirror_mode": {
                "name": "ipython",
                "version": 3
            },
            "file_extension": ".py",
            "mimetype": "text/x-python",
            "name": "python",
            "nbconvert_exporter": "python",
            "pygments_lexer": "ipython3",
            "version": "3.6.9"
        }
    },
    "nbformat": 4,
    "nbformat_minor": 1
}